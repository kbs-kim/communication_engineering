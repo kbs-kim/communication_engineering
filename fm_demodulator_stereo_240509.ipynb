{
 "cells": [
  {
   "cell_type": "markdown",
   "id": "aa1b6903",
   "metadata": {},
   "source": [
    "## Stereo FM demodulator"
   ]
  },
  {
   "cell_type": "code",
   "execution_count": 1,
   "id": "fe72e7b1",
   "metadata": {},
   "outputs": [],
   "source": [
    "import numpy as np\n"
   ]
  },
  {
   "cell_type": "code",
   "execution_count": 4,
   "id": "26bd58be",
   "metadata": {},
   "outputs": [
    {
     "ename": "FileNotFoundError",
     "evalue": "[Errno 2] No such file or directory: 'fm941.bin'",
     "output_type": "error",
     "traceback": [
      "\u001b[1;31m---------------------------------------------------------------------------\u001b[0m",
      "\u001b[1;31mFileNotFoundError\u001b[0m                         Traceback (most recent call last)",
      "Cell \u001b[1;32mIn[4], line 1\u001b[0m\n\u001b[1;32m----> 1\u001b[0m \u001b[38;5;28;01mwith\u001b[39;00m \u001b[38;5;28;43mopen\u001b[39;49m\u001b[43m(\u001b[49m\u001b[38;5;124;43m'\u001b[39;49m\u001b[38;5;124;43mfm941.bin\u001b[39;49m\u001b[38;5;124;43m'\u001b[39;49m\u001b[43m,\u001b[49m\u001b[43m \u001b[49m\u001b[43mmode\u001b[49m\u001b[38;5;241;43m=\u001b[39;49m\u001b[38;5;124;43m'\u001b[39;49m\u001b[38;5;124;43mrb\u001b[39;49m\u001b[38;5;124;43m'\u001b[39;49m\u001b[43m)\u001b[49m \u001b[38;5;28;01mas\u001b[39;00m file: \u001b[38;5;66;03m# b is important -> binary\u001b[39;00m\n\u001b[0;32m      2\u001b[0m     x \u001b[38;5;241m=\u001b[39m file\u001b[38;5;241m.\u001b[39mread()\n\u001b[0;32m      4\u001b[0m y \u001b[38;5;241m=\u001b[39m [(\u001b[38;5;28mfloat\u001b[39m(i)\u001b[38;5;241m-\u001b[39m\u001b[38;5;241m127.5\u001b[39m) \u001b[38;5;28;01mfor\u001b[39;00m i \u001b[38;5;129;01min\u001b[39;00m x]\n",
      "File \u001b[1;32m~\\AppData\\Roaming\\Python\\Python312\\site-packages\\IPython\\core\\interactiveshell.py:324\u001b[0m, in \u001b[0;36m_modified_open\u001b[1;34m(file, *args, **kwargs)\u001b[0m\n\u001b[0;32m    317\u001b[0m \u001b[38;5;28;01mif\u001b[39;00m file \u001b[38;5;129;01min\u001b[39;00m {\u001b[38;5;241m0\u001b[39m, \u001b[38;5;241m1\u001b[39m, \u001b[38;5;241m2\u001b[39m}:\n\u001b[0;32m    318\u001b[0m     \u001b[38;5;28;01mraise\u001b[39;00m \u001b[38;5;167;01mValueError\u001b[39;00m(\n\u001b[0;32m    319\u001b[0m         \u001b[38;5;124mf\u001b[39m\u001b[38;5;124m\"\u001b[39m\u001b[38;5;124mIPython won\u001b[39m\u001b[38;5;124m'\u001b[39m\u001b[38;5;124mt let you open fd=\u001b[39m\u001b[38;5;132;01m{\u001b[39;00mfile\u001b[38;5;132;01m}\u001b[39;00m\u001b[38;5;124m by default \u001b[39m\u001b[38;5;124m\"\u001b[39m\n\u001b[0;32m    320\u001b[0m         \u001b[38;5;124m\"\u001b[39m\u001b[38;5;124mas it is likely to crash IPython. If you know what you are doing, \u001b[39m\u001b[38;5;124m\"\u001b[39m\n\u001b[0;32m    321\u001b[0m         \u001b[38;5;124m\"\u001b[39m\u001b[38;5;124myou can use builtins\u001b[39m\u001b[38;5;124m'\u001b[39m\u001b[38;5;124m open.\u001b[39m\u001b[38;5;124m\"\u001b[39m\n\u001b[0;32m    322\u001b[0m     )\n\u001b[1;32m--> 324\u001b[0m \u001b[38;5;28;01mreturn\u001b[39;00m \u001b[43mio_open\u001b[49m\u001b[43m(\u001b[49m\u001b[43mfile\u001b[49m\u001b[43m,\u001b[49m\u001b[43m \u001b[49m\u001b[38;5;241;43m*\u001b[39;49m\u001b[43margs\u001b[49m\u001b[43m,\u001b[49m\u001b[43m \u001b[49m\u001b[38;5;241;43m*\u001b[39;49m\u001b[38;5;241;43m*\u001b[39;49m\u001b[43mkwargs\u001b[49m\u001b[43m)\u001b[49m\n",
      "\u001b[1;31mFileNotFoundError\u001b[0m: [Errno 2] No such file or directory: 'fm941.bin'"
     ]
    }
   ],
   "source": [
    "with open('fm941.bin', mode='rb') as file: # b is important -> binary\n",
    "    x = file.read()\n",
    "\n",
    "y = [(float(i)-127.5) for i in x]\n",
    "y_re = y[0::2]\n",
    "y_im = y[1::2]\n",
    "len(y_re)"
   ]
  },
  {
   "cell_type": "code",
   "execution_count": 3,
   "id": "1d375493",
   "metadata": {},
   "outputs": [],
   "source": [
    "import numpy as np\n",
    "\n",
    "# Combine the real and imaginary parts to form the complex baseband signal\n",
    "y_complex = np.array(y_re) + 1j*np.array(y_im)"
   ]
  },
  {
   "cell_type": "markdown",
   "id": "f1fd38e2",
   "metadata": {},
   "source": [
    "### Step 1: Necessary Imports and FM Demodulation Function\n",
    "First, ensure you have the necessary imports and reuse the FM demodulation function we defined previously for the mono signal."
   ]
  },
  {
   "cell_type": "code",
   "execution_count": 4,
   "id": "b4412fd3",
   "metadata": {},
   "outputs": [],
   "source": [
    "import numpy as np\n",
    "from scipy.signal import hilbert, butter, lfilter\n",
    "\n",
    "def fm_demodulate(complex_signal, fm_deviation, sample_rate):\n",
    "    \"\"\"\n",
    "    Demodulate a frequency modulated signal using the phase derivative method.\n",
    "    \"\"\"\n",
    "    # Calculate the instantaneous phase of the complex signal\n",
    "    instantaneous_phase = np.unwrap(np.angle(complex_signal))\n",
    "    \n",
    "    # Calculate the derivative of the phase\n",
    "    instantaneous_freq = np.diff(instantaneous_phase)\n",
    "    \n",
    "    # Convert the derivative of the phase to a demodulated signal\n",
    "    demodulated_signal = (instantaneous_freq / (2 * np.pi)) * sample_rate / fm_deviation\n",
    "    \n",
    "    # Append zero to maintain length consistency\n",
    "    return np.append(demodulated_signal, 0)\n",
    "\n"
   ]
  },
  {
   "cell_type": "markdown",
   "id": "e5287e51",
   "metadata": {},
   "source": [
    "### Step 2: Band-Pass Filters for Stereo Signal Components\n",
    "You'll need band-pass filters to isolate the 19 kHz pilot tone and the 38 kHz stereo (L-R) signal."
   ]
  },
  {
   "cell_type": "code",
   "execution_count": 5,
   "id": "eaac1513",
   "metadata": {},
   "outputs": [],
   "source": [
    "def bandpass_filter(signal, lowcut, highcut, sample_rate, order=5):\n",
    "    nyq = 0.5 * sample_rate\n",
    "    low = lowcut / nyq\n",
    "    high = highcut / nyq\n",
    "    b, a = butter(order, [low, high], btype='band')\n",
    "    y = lfilter(b, a, signal)\n",
    "    return y\n"
   ]
  },
  {
   "cell_type": "markdown",
   "id": "052b6be5",
   "metadata": {},
   "source": [
    "### Step 3: Extract and Decode Stereo Components\n",
    "Now, extract the pilot tone to regenerate the 38 kHz signal and demodulate the stereo (L-R) component."
   ]
  },
  {
   "cell_type": "code",
   "execution_count": 6,
   "id": "003cfe8c",
   "metadata": {},
   "outputs": [],
   "source": [
    "def lowpass_filter(signal, cutoff, sample_rate, order=5):\n",
    "    nyq = 0.5 * sample_rate\n",
    "    normal_cutoff = cutoff / nyq\n",
    "    b, a = butter(order, normal_cutoff, btype='low')\n",
    "    return lfilter(b, a, signal)\n",
    "\n",
    "def stereo_decode(fm_signal, sample_rate):\n",
    "    # Extract the pilot tone at 19 kHz\n",
    "    pilot_tone = bandpass_filter(fm_signal, 18900, 19100, sample_rate, order=3)\n",
    "    \n",
    "    # Double the frequency of the pilot tone to generate the 38 kHz carrier\n",
    "    carrier = np.cos(2 * np.pi * 2 * 19000 * np.arange(len(pilot_tone)) / sample_rate)\n",
    "    \n",
    "    # Extract the (L-R) component modulated around 38 kHz\n",
    "    l_minus_r = bandpass_filter(fm_signal, 37000, 39000, sample_rate, order=3)\n",
    "    \n",
    "    # Demodulate the (L-R) component\n",
    "    l_minus_r = l_minus_r * carrier\n",
    "    \n",
    "    # Low-pass filter to get the audio signal from the modulated carrier\n",
    "    l_minus_r = lowpass_filter(l_minus_r, 15000, sample_rate, order=3)\n",
    "    \n",
    "    # Extract the mono (L+R) component\n",
    "    l_plus_r = lowpass_filter(fm_signal, 15000, sample_rate, order=5)\n",
    "    \n",
    "    # Decode the original L and R channels\n",
    "    left = (l_plus_r + l_minus_r) / 2\n",
    "    right = (l_plus_r - l_minus_r) / 2\n",
    "    \n",
    "    return left, right\n"
   ]
  },
  {
   "cell_type": "markdown",
   "id": "24e552e0",
   "metadata": {},
   "source": [
    "### Step 4: Use the Functions to Process Your Signal\n",
    "Now you can use the fm_demodulate to get the FM baseband and then apply stereo_decode to separate the left and right audio channels."
   ]
  },
  {
   "cell_type": "code",
   "execution_count": 7,
   "id": "51dbbe5a",
   "metadata": {},
   "outputs": [],
   "source": [
    "# Example usage:\n",
    "# Assume 'y_complex' is your I/Q data from the SDR\n",
    "fm_signal = fm_demodulate(y_complex, 75000, 2400000)  # Example parameters\n",
    "left, right = stereo_decode(fm_signal, 2400000)\n"
   ]
  },
  {
   "cell_type": "markdown",
   "id": "5da1cf02",
   "metadata": {},
   "source": [
    "## Make the stereo audio signal be the audio data"
   ]
  },
  {
   "cell_type": "markdown",
   "id": "6904128b",
   "metadata": {},
   "source": [
    "### Step 1: Normalize and Prepare the Audio Data\n",
    "Before saving the audio, it's a good practice to normalize the audio to avoid clipping and to ensure consistent audio levels."
   ]
  },
  {
   "cell_type": "code",
   "execution_count": 8,
   "id": "be7e092a",
   "metadata": {},
   "outputs": [],
   "source": [
    "def normalize_audio(audio):\n",
    "    # Normalize audio to prevent clipping\n",
    "    audio = audio / np.max(np.abs(audio))\n",
    "    return audio\n"
   ]
  },
  {
   "cell_type": "markdown",
   "id": "b58140af",
   "metadata": {},
   "source": [
    "Then apply this normalization to both the left and right channels:"
   ]
  },
  {
   "cell_type": "code",
   "execution_count": 9,
   "id": "856530bb",
   "metadata": {},
   "outputs": [],
   "source": [
    "left = normalize_audio(left)\n",
    "right = normalize_audio(right)\n"
   ]
  },
  {
   "cell_type": "markdown",
   "id": "83082357",
   "metadata": {},
   "source": [
    "### Step 2: Combine the Left and Right Channels\n",
    "For scipy.io.wavfile.write, the stereo audio data should be in a two-dimensional array with two columns — one for each channel."
   ]
  },
  {
   "cell_type": "code",
   "execution_count": 10,
   "id": "2bb68527",
   "metadata": {},
   "outputs": [],
   "source": [
    "# Stack the left and right channels into a two-column array\n",
    "stereo_audio = np.stack((left, right), axis=-1)"
   ]
  },
  {
   "cell_type": "markdown",
   "id": "424483eb",
   "metadata": {},
   "source": [
    "### Step 3: Write to a WAV File\n",
    "Now, use scipy.io.wavfile.write to save the audio data to a file. Specify a suitable sample rate; ensure it's the same rate used for sampling your FM signal."
   ]
  },
  {
   "cell_type": "code",
   "execution_count": 11,
   "id": "3ed6fd07",
   "metadata": {},
   "outputs": [],
   "source": [
    "from scipy.io.wavfile import write\n",
    "\n",
    "sample_rate = 2400000  # Adjust as per your SDR configuration\n",
    "write('stereo_output.wav', sample_rate, stereo_audio.astype(np.float32))"
   ]
  },
  {
   "cell_type": "markdown",
   "id": "988f8a04",
   "metadata": {},
   "source": [
    "### Step 4: Listening to the Audio\n",
    "The saved WAV file, stereo_output.wav, can now be played using any standard audio player that supports WAV files. If the audio sounds too fast or too slow, verify that the sample rate specified in the write function matches the rate used during the signal processing steps."
   ]
  },
  {
   "cell_type": "markdown",
   "id": "5b454402",
   "metadata": {},
   "source": [
    "## Full Example\n",
    "Here's how the complete process might look when put together:"
   ]
  },
  {
   "cell_type": "code",
   "execution_count": 12,
   "id": "bc97135e",
   "metadata": {},
   "outputs": [],
   "source": [
    "import numpy as np\n",
    "from scipy.signal import hilbert, butter, lfilter\n",
    "from scipy.io.wavfile import write\n",
    "\n",
    "def bandpass_filter(signal, lowcut, highcut, sample_rate, order=5):\n",
    "    nyq = 0.5 * sample_rate\n",
    "    low = lowcut / nyq\n",
    "    high = highcut / nyq\n",
    "    b, a = butter(order, [low, high], btype='band')\n",
    "    return lfilter(b, a, signal)\n",
    "\n",
    "def normalize_audio(audio):\n",
    "    audio = audio / np.max(np.abs(audio))\n",
    "    return audio\n",
    "\n",
    "def lowpass_filter(signal, cutoff, sample_rate, order=5):\n",
    "    nyq = 0.5 * sample_rate\n",
    "    normal_cutoff = cutoff / nyq\n",
    "    b, a = butter(order, normal_cutoff, btype='low')\n",
    "    return lfilter(b, a, signal)\n",
    "\n",
    "def stereo_decode(fm_signal, sample_rate):\n",
    "    # Extract the pilot tone at 19 kHz\n",
    "    pilot_tone = bandpass_filter(fm_signal, 18900, 19100, sample_rate, order=3)\n",
    "    \n",
    "    # Double the frequency of the pilot tone to generate the 38 kHz carrier\n",
    "    carrier = np.cos(2 * np.pi * 2 * 19000 * np.arange(len(pilot_tone)) / sample_rate)\n",
    "    \n",
    "    # Extract the (L-R) component modulated around 38 kHz\n",
    "    l_minus_r = bandpass_filter(fm_signal, 37000, 39000, sample_rate, order=3)\n",
    "    \n",
    "    # Demodulate the (L-R) component\n",
    "    l_minus_r = l_minus_r * carrier\n",
    "    \n",
    "    # Low-pass filter to get the audio signal from the modulated carrier\n",
    "    l_minus_r = lowpass_filter(l_minus_r, 15000, sample_rate, order=3)\n",
    "    \n",
    "    # Extract the mono (L+R) component\n",
    "    l_plus_r = lowpass_filter(fm_signal, 15000, sample_rate, order=5)\n",
    "    \n",
    "    # Decode the original L and R channels\n",
    "    left = (l_plus_r + l_minus_r) / 2\n",
    "    right = (l_plus_r - l_minus_r) / 2\n",
    "    \n",
    "    return left, right\n",
    "\n",
    "\n",
    "# Example usage:\n",
    "fm_signal = fm_demodulate(y_complex, 75000, 2400000)  # Adjust these parameters\n",
    "left, right = stereo_decode(fm_signal, 2400000)  # Adjust sample rate accordingly\n",
    "\n",
    "# Save the stereo audio to a WAV file\n",
    "stereo_audio = np.stack((left, right), axis=-1)\n",
    "write('stereo_output1.wav', 2400000, stereo_audio.astype(np.float32))\n"
   ]
  },
  {
   "cell_type": "code",
   "execution_count": null,
   "id": "7bc9921f",
   "metadata": {},
   "outputs": [],
   "source": []
  }
 ],
 "metadata": {
  "kernelspec": {
   "display_name": "bumsunote",
   "language": "python",
   "name": "conda"
  },
  "language_info": {
   "codemirror_mode": {
    "name": "ipython",
    "version": 3
   },
   "file_extension": ".py",
   "mimetype": "text/x-python",
   "name": "python",
   "nbconvert_exporter": "python",
   "pygments_lexer": "ipython3",
   "version": "3.12.4"
  }
 },
 "nbformat": 4,
 "nbformat_minor": 5
}
