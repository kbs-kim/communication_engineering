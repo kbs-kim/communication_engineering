{
 "cells": [
  {
   "cell_type": "markdown",
   "id": "d19a42bc",
   "metadata": {},
   "source": [
    "## Mono FM Demodulator"
   ]
  },
  {
   "cell_type": "code",
   "execution_count": null,
   "id": "b4896812",
   "metadata": {},
   "outputs": [],
   "source": [
    "import numpy as np\n",
    "from scipy.signal import hilbert"
   ]
  },
  {
   "cell_type": "code",
   "execution_count": null,
   "id": "05f0799c",
   "metadata": {},
   "outputs": [],
   "source": []
  },
  {
   "cell_type": "markdown",
   "id": "e53fdf3e",
   "metadata": {},
   "source": [
    "### Read from the recorded data from RTL-SDR"
   ]
  },
  {
   "cell_type": "code",
   "execution_count": 3,
   "id": "467f2094",
   "metadata": {},
   "outputs": [
    {
     "data": {
      "text/plain": [
       "10000000"
      ]
     },
     "execution_count": 3,
     "metadata": {},
     "output_type": "execute_result"
    }
   ],
   "source": [
    "with open('fm941.bin', mode='rb') as file: # b is important -> binary\n",
    "    x = file.read()\n",
    "\n",
    "y = [(float(i)-127.5) for i in x]\n",
    "y_re = y[0::2]\n",
    "y_im = y[1::2]\n",
    "len(y_re)"
   ]
  },
  {
   "cell_type": "markdown",
   "id": "49e0daac",
   "metadata": {},
   "source": [
    "### Step 1: Convert y_re and y_im into a Complex Signal\n",
    "First, combine y_re (real part) and y_im (imaginary part) to form a single complex array. This complex array represents the I/Q data from your RTL-SDR."
   ]
  },
  {
   "cell_type": "code",
   "execution_count": 4,
   "id": "9b57b8fb",
   "metadata": {},
   "outputs": [],
   "source": [
    "import numpy as np\n",
    "\n",
    "# Combine the real and imaginary parts to form the complex baseband signal\n",
    "y_complex = np.array(y_re) + 1j*np.array(y_im)"
   ]
  },
  {
   "cell_type": "markdown",
   "id": "5aeb295d",
   "metadata": {},
   "source": [
    "### Step 2: Define the FM Demodulation Function\n",
    "To demodulate the FM signal, you can use the phase derivative method. This method involves calculating the instantaneous phase of the signal and then finding its derivative, which is proportional to the original modulating signal."
   ]
  },
  {
   "cell_type": "code",
   "execution_count": 5,
   "id": "67836cb5",
   "metadata": {},
   "outputs": [],
   "source": [
    "def fm_demodulate(complex_signal, fm_deviation):\n",
    "    \"\"\"\n",
    "    Demodulate a frequency modulated signal using the phase derivative method.\n",
    "    \n",
    "    Args:\n",
    "    complex_signal (numpy.ndarray): The complex I/Q data samples.\n",
    "    fm_deviation (float): The peak frequency deviation of the FM signal in Hz.\n",
    "    \n",
    "    Returns:\n",
    "    numpy.ndarray: The demodulated signal.\n",
    "    \"\"\"\n",
    "    # Calculate the instantaneous phase of the complex signal\n",
    "    instantaneous_phase = np.unwrap(np.angle(complex_signal))\n",
    "    \n",
    "    # Calculate the derivative of the phase\n",
    "    instantaneous_freq = np.diff(instantaneous_phase)\n",
    "    \n",
    "    # Convert the derivative of the phase to a demodulated signal\n",
    "    # The factor (1/(2*pi)) converts from radians per sample to cycles per sample\n",
    "    # Multiply by sample_rate to convert to cycles per second (Hz)\n",
    "    demodulated_signal = (instantaneous_freq / (2 * np.pi)) * sample_rate / fm_deviation\n",
    "    \n",
    "    return demodulated_signal\n"
   ]
  },
  {
   "cell_type": "markdown",
   "id": "72f5de24",
   "metadata": {},
   "source": [
    "### Step 3: Specify the FM Radio Parameters\n",
    "Set the sample rate and FM deviation. These values depend on how you configured the RTL-SDR when you captured the data. For typical wideband FM broadcasts, the frequency deviation is around 75 kHz."
   ]
  },
  {
   "cell_type": "code",
   "execution_count": 15,
   "id": "78e4901f",
   "metadata": {},
   "outputs": [],
   "source": [
    "sample_rate = 2.4e6  # Example: 2.4 MHz sample rate\n",
    "fm_deviation = 75e3  # Example: 75 kHz FM deviation\n"
   ]
  },
  {
   "cell_type": "markdown",
   "id": "33fd674e",
   "metadata": {},
   "source": [
    "### Step 4: Demodulate the Signal\n",
    "Call the fm_demodulate function with your complex signal."
   ]
  },
  {
   "cell_type": "code",
   "execution_count": 16,
   "id": "53e4833c",
   "metadata": {},
   "outputs": [],
   "source": [
    "# Demodulate the FM signal\n",
    "demodulated_audio = fm_demodulate(y_complex, fm_deviation)\n",
    "\n",
    "# Since np.diff reduces the length of the array by 1, optionally you can append a zero\n",
    "demodulated_audio = np.append(demodulated_audio, 0)  # Maintain original length for consistency\n"
   ]
  },
  {
   "cell_type": "markdown",
   "id": "a7c5afc3",
   "metadata": {},
   "source": [
    "### Step 5: Optionally Save or Play the Demodulated Audio\n",
    "You might want to listen to the demodulated signal or save it to a file. Here's how you could save it using scipy.io.wavfile:"
   ]
  },
  {
   "cell_type": "code",
   "execution_count": 17,
   "id": "790ad111",
   "metadata": {},
   "outputs": [],
   "source": [
    "from scipy.io.wavfile import write\n",
    "\n",
    "# Normalize and scale to int16 for WAV file\n",
    "audio_scaled = np.int16((demodulated_audio / np.max(np.abs(demodulated_audio))) * 32767)\n",
    "\n",
    "# Write to a WAV file\n",
    "write('demodulated_audio.wav', int(sample_rate), audio_scaled)\n"
   ]
  },
  {
   "cell_type": "markdown",
   "id": "0bfb1204",
   "metadata": {},
   "source": [
    "#### This code sequence provides a straightforward method for FM demodulation using Python, applicable for processing RTL-SDR recorded signals in scenarios such as amateur radio, FM broadcast reception, and other similar applications. Adjust the sample_rate and fm_deviation according to the specific details of your signal capture setup."
   ]
  },
  {
   "cell_type": "code",
   "execution_count": null,
   "id": "b2a0cb30",
   "metadata": {},
   "outputs": [],
   "source": []
  }
 ],
 "metadata": {
  "kernelspec": {
   "display_name": "Python 3 (ipykernel)",
   "language": "python",
   "name": "python3"
  },
  "language_info": {
   "codemirror_mode": {
    "name": "ipython",
    "version": 3
   },
   "file_extension": ".py",
   "mimetype": "text/x-python",
   "name": "python",
   "nbconvert_exporter": "python",
   "pygments_lexer": "ipython3",
   "version": "3.10.9"
  }
 },
 "nbformat": 4,
 "nbformat_minor": 5
}
